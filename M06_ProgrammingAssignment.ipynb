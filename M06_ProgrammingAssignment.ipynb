{
 "cells": [
  {
   "cell_type": "code",
   "execution_count": 1,
   "id": "9064234b",
   "metadata": {},
   "outputs": [
    {
     "name": "stdout",
     "output_type": "stream",
     "text": [
      "10 1 2023\n"
     ]
    }
   ],
   "source": [
    "from datetime import datetime\n",
    "\n",
    "with open(\"today.txt\", 'w') as f:\n",
    "    date = str(datetime.today())\n",
    "    f.write(date)\n",
    "    \n",
    "with open(\"today.txt\", 'r') as f:\n",
    "    content = f.readlines()\n",
    "    today_string = content[0]\n",
    "    dt = datetime.strptime(today_string, '%Y-%m-%d %H:%M:%S.%f')\n",
    "    \n",
    "    print(dt.month, dt.day, dt.year)"
   ]
  },
  {
   "cell_type": "code",
   "execution_count": 3,
   "id": "c50d8678",
   "metadata": {},
   "outputs": [],
   "source": [
    "import multiprocessing\n",
    "import time\n",
    "from random import randrange\n",
    "\n",
    "def wait_random_time(string):\n",
    "    time.sleep(randrange(1, 10))\n",
    "    print(f\"{string}: Done Waiting\")\n",
    "\n",
    "if __name__ == \"__main__\":\n",
    "    for i in range(3):\n",
    "        process = multiprocessing.Process(target=wait_random_time, args = (\"Function %s\" % i,))\n",
    "        process.start()"
   ]
  },
  {
   "cell_type": "code",
   "execution_count": null,
   "id": "988e4c16",
   "metadata": {},
   "outputs": [],
   "source": []
  }
 ],
 "metadata": {
  "kernelspec": {
   "display_name": "Python 3 (ipykernel)",
   "language": "python",
   "name": "python3"
  },
  "language_info": {
   "codemirror_mode": {
    "name": "ipython",
    "version": 3
   },
   "file_extension": ".py",
   "mimetype": "text/x-python",
   "name": "python",
   "nbconvert_exporter": "python",
   "pygments_lexer": "ipython3",
   "version": "3.11.4"
  }
 },
 "nbformat": 4,
 "nbformat_minor": 5
}
